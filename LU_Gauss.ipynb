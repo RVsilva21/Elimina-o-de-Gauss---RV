{
  "nbformat": 4,
  "nbformat_minor": 0,
  "metadata": {
    "colab": {
      "provenance": [],
      "authorship_tag": "ABX9TyOtS8x9fssOwA3FENGfTNtm",
      "include_colab_link": true
    },
    "kernelspec": {
      "name": "python3",
      "display_name": "Python 3"
    },
    "language_info": {
      "name": "python"
    }
  },
  "cells": [
    {
      "cell_type": "markdown",
      "metadata": {
        "id": "view-in-github",
        "colab_type": "text"
      },
      "source": [
        "<a href=\"https://colab.research.google.com/github/RVsilva21/Elimina-o-de-Gauss---RV/blob/main/LU_Gauss.ipynb\" target=\"_parent\"><img src=\"https://colab.research.google.com/assets/colab-badge.svg\" alt=\"Open In Colab\"/></a>"
      ]
    },
    {
      "cell_type": "code",
      "execution_count": null,
      "metadata": {
        "colab": {
          "base_uri": "https://localhost:8080/"
        },
        "id": "RPDCTtvaDi1Y",
        "outputId": "29367790-7045-4053-8597-7935469da0e7"
      },
      "outputs": [
        {
          "output_type": "stream",
          "name": "stdout",
          "text": [
            "[[  1   6   2   4   8]\n",
            " [  0   1  -2   3   1]\n",
            " [  0   0   2 -10  12]\n",
            " [  0   0   0  -1 -48]]\n"
          ]
        }
      ],
      "source": [
        "import numpy as np\n",
        "\n",
        "A = np.array([\n",
        "    [1, 6, 2, 4],\n",
        "    [3, 19, 4, 15],\n",
        "    [1, 4, 8, -12],\n",
        "    [5, 33, 9, 3],\n",
        "])\n",
        "\n",
        "B = np.array([\n",
        "    [8],\n",
        "    [25],\n",
        "    [18],\n",
        "    [25],\n",
        "])\n",
        "\n",
        "A = np.concatenate((A, B), axis=1)\n",
        "\n",
        "pivo = A[0,0]\n",
        "fator = A[1,0]/pivo\n",
        "A[1,:] = A[1,:] - fator*A[0,:]\n",
        "\n",
        "fator = A[2,0]/pivo\n",
        "A[2,:] = A[2,:] - fator*A[0,:]\n",
        "\n",
        "fator = A[3,0]/pivo\n",
        "A[3,:] = A[3,:] - fator*A[0,:]\n",
        "\n",
        "pivo = A[1,1]\n",
        "fator = A[2,1]/pivo\n",
        "\n",
        "fator = A[2,1]/pivo\n",
        "A[2,:] = A[2,:] - fator*A[1,:]\n",
        "\n",
        "fator = A[3,1]/pivo\n",
        "A[3,:] = A[3,:] - fator*A[1,:]\n",
        "\n",
        "pivo = A[2,2]\n",
        "fator = A[3,2]/pivo\n",
        "\n",
        "fator = A[3,2]/pivo\n",
        "A[3,:] = A[3,:] - fator*A[2,:]\n",
        "\n",
        "print (A)\n",
        "\n"
      ]
    },
    {
      "cell_type": "code",
      "source": [
        "def substituicoes_sucessivas(A, b):\n",
        "\n",
        " n = len(A)\n",
        " x = n * [0]\n",
        "\n",
        " for i in range (0, n):\n",
        "     S = 0\n",
        "     for j in range (0, i):\n",
        "         S = S + A[i][j] * x[j]\n",
        "     x[i] = (b[i]-S)/A[i][i]\n",
        "\n",
        " return x"
      ],
      "metadata": {
        "id": "m4996Gt2EPa-"
      },
      "execution_count": null,
      "outputs": []
    },
    {
      "cell_type": "code",
      "source": [
        "from ast import Return\n",
        "def identidade(n):\n",
        "  m = []\n",
        "  for i in range (0, n):\n",
        "      linha = [0] * n\n",
        "      linha[i] = 1\n",
        "      m.append(linha)\n",
        "  return m"
      ],
      "metadata": {
        "id": "KeyRkEwkK5dG"
      },
      "execution_count": null,
      "outputs": []
    },
    {
      "cell_type": "code",
      "source": [
        "def lu(A):\n",
        "  n = len(A)\n",
        "\n",
        "  L = identidade(n)\n",
        "\n",
        "  for k in range(0, n-1):\n",
        "      for i in range(k+1, n):\n",
        "          m = - A[i][k]/A[k][k]\n",
        "          L[i][k] = -m\n",
        "\n",
        "          for j in range (k+1, n):\n",
        "              A[i][j] = m * A[k][j] + A[i][j]\n",
        "\n",
        "          ## b[i] = m * b[k] + b[i]\n",
        "\n",
        "          A[i][k] = 0\n",
        "\n",
        "  return (L, A)"
      ],
      "metadata": {
        "id": "6qa31voDLYXx"
      },
      "execution_count": null,
      "outputs": []
    },
    {
      "cell_type": "code",
      "source": [
        "def formata_matriz(M):\n",
        "    m = len(M)\n",
        "    n = len(M[0])\n",
        "    s = \"\"\n",
        "\n",
        "    for i in range(m):\n",
        "        for j in range(n):\n",
        "          s += \"%9.3f\" % M[i][j]\n",
        "        s += \"\\n\"\n",
        "    return s\n",
        "\n",
        "A = [[1, 6, 2, 4],\n",
        "     [3, 19, 4, 15],\n",
        "     [1, 4, 8, -12],\n",
        "     [5, 33, 9, 3]\n",
        "     ]\n",
        "\n",
        "(L, U) = lu(A)\n",
        "\n",
        "print(\"L: \\n%s\" % formata_matriz(L))\n",
        "print(\"U: \\n%s\" % formata_matriz(U))"
      ],
      "metadata": {
        "colab": {
          "base_uri": "https://localhost:8080/"
        },
        "id": "pf_rJt6BNFx8",
        "outputId": "4b7caf75-74f6-4f9b-b634-b293583b4463"
      },
      "execution_count": null,
      "outputs": [
        {
          "output_type": "stream",
          "name": "stdout",
          "text": [
            "L: \n",
            "    1.000    0.000    0.000    0.000\n",
            "    3.000    1.000    0.000    0.000\n",
            "    1.000   -2.000    1.000    0.000\n",
            "    5.000    3.000    2.500    1.000\n",
            "\n",
            "U: \n",
            "    1.000    6.000    2.000    4.000\n",
            "    0.000    1.000   -2.000    3.000\n",
            "    0.000    0.000    2.000  -10.000\n",
            "    0.000    0.000    0.000   -1.000\n",
            "\n"
          ]
        }
      ]
    }
  ]
}